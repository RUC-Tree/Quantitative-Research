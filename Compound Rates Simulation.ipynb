{
 "cells": [
  {
   "cell_type": "markdown",
   "id": "f70fab7f",
   "metadata": {},
   "source": [
    "## **Introduction**\n",
    "When we make a deposit, banks will always give us $APY$, which is confounding. Since we don't always have an one-year maturity and the compounding frequency is *tricky*. This project turns $APY$ directly into the \"real\" interest rate $r$ and P&I after maturity.\n",
    "\n",
    "### **Formula**:\n",
    "$$\n",
    "(1+\\frac{r}{n})^n = 1+APY\n",
    "$$\n",
    "\n",
    "$$\n",
    "r = n\\left[\\sqrt[n]{1+APY} - 1\\right]\n",
    "$$\n",
    "\n",
    "$r:$ The \"real\" interest rate.\n",
    "\n",
    "$APY:$ Annual Percentage Yield.\n",
    "\n",
    "$n:$ Compounding Frequency.\n",
    "\n",
    "It should also be noticed that $(1+\\frac{1}{n})^n \\to e $ as $n \\to \\infty$, which is an important limit."
   ]
  },
  {
   "cell_type": "code",
   "execution_count": 1,
   "id": "d229b682",
   "metadata": {},
   "outputs": [
    {
     "data": {
      "application/vnd.jupyter.widget-view+json": {
       "model_id": "8a5e4ae3bcca4af2973001a5fe1f1ed4",
       "version_major": 2,
       "version_minor": 0
      },
      "text/plain": [
       "interactive(children=(FloatSlider(value=0.05, description='Rate r', max=0.2, min=0.01, step=0.01), Output()), …"
      ]
     },
     "metadata": {},
     "output_type": "display_data"
    }
   ],
   "source": [
    "import numpy as np\n",
    "import matplotlib.pyplot as plt\n",
    "import ipywidgets as widgets\n",
    "from ipywidgets import interact\n",
    "\n",
    "# Define the plotting function\n",
    "def plot_compound_interest(r=0.05):\n",
    "    n_values = [1, 2, 4, 12, 365, 10000]  # selected compounding frequencies\n",
    "    \n",
    "    # Compute f(n)\n",
    "    f_values = [(1 + r/n)**n for n in n_values]\n",
    "    \n",
    "    # Print results\n",
    "    for n, f in zip(n_values, f_values):\n",
    "        print(f\"n = {n:5d}, f(n) = {f:.6f}\")\n",
    "    \n",
    "    # Plot function\n",
    "    n_range = np.arange(1, 1000)\n",
    "    f_range = (1 + r/n_range)**n_range\n",
    "\n",
    "    plt.figure(figsize=(8,5))\n",
    "    plt.plot(n_range, f_range, label=r'$f(n)=(1+r/n)^n$')\n",
    "    plt.scatter(n_values, f_values, color='red', zorder=5, label=\"Selected n\")\n",
    "    for n, f in zip(n_values, f_values):\n",
    "        plt.text(n, f, f\"n={n}\", fontsize=9, ha=\"right\")\n",
    "\n",
    "    # Add limit line\n",
    "    plt.axhline(np.exp(r), color='gray', linestyle=\"--\", label=r\"$\\exp(r)$ limit\")\n",
    "    plt.title(f\"Compound Interest Effect (r={r:.2%})\")\n",
    "    plt.xlabel(\"n (number of compounding periods per year)\")\n",
    "    plt.ylabel(\"Final value of (1+r/n)^n\")\n",
    "    plt.legend()\n",
    "    plt.grid(True)\n",
    "    plt.show()\n",
    "\n",
    "# Create interactive slider for interest rate r\n",
    "interact(plot_compound_interest, r=widgets.FloatSlider(value=0.05, min=0.01, max=0.2, step=0.01, description=\"Rate r\"));\n"
   ]
  },
  {
   "cell_type": "code",
   "execution_count": 31,
   "id": "7c33e1b8",
   "metadata": {},
   "outputs": [
    {
     "data": {
      "application/vnd.jupyter.widget-view+json": {
       "model_id": "2f31f1fcb0fe447cb9fd048c552423e5",
       "version_major": 2,
       "version_minor": 0
      },
      "text/plain": [
       "interactive(children=(FloatText(value=1000.0, description='Principal:'), FloatText(value=0.05, description='AP…"
      ]
     },
     "metadata": {},
     "output_type": "display_data"
    },
    {
     "data": {
      "application/vnd.jupyter.widget-view+json": {
       "model_id": "d306feea3b7d492da6ec7814b5fac6ef",
       "version_major": 2,
       "version_minor": 0
      },
      "text/plain": [
       "Output()"
      ]
     },
     "metadata": {},
     "output_type": "display_data"
    }
   ],
   "source": [
    "# Create an output area\n",
    "output = widgets.Output()\n",
    "\n",
    "def compound_growth_interactive(principal, apy, compounding_freq, maturity_months):\n",
    "    with output:\n",
    "        output.clear_output(wait=True)\n",
    "\n",
    "        # Calculate interest rate\n",
    "        periodic_rate = compounding_freq * ((1 + apy) ** (1 / compounding_freq) - 1)\n",
    "\n",
    "        # Calculate principal growth for each month\n",
    "        months = np.linspace(0, maturity_months, 36)\n",
    "        values = principal * (1 + periodic_rate / compounding_freq) ** (months / 12 * compounding_freq)\n",
    "\n",
    "        # Plot the growth curve\n",
    "        plt.figure(figsize=(8,5))\n",
    "        plt.plot(months, values, label=f\"APY={apy*100:.2f}%, freq={compounding_freq}/yr\")\n",
    "        plt.xlabel(\"Months\")\n",
    "        plt.ylabel(\"Value ($)\")\n",
    "        plt.title(\"Compound Growth Over Time\")\n",
    "        plt.grid(True)\n",
    "\n",
    "        # Print periodic interest rate and final value in console\n",
    "        print(f\"Derived interest rate: {periodic_rate*100:.4f}%\")\n",
    "        print(f\"Final value at maturity ({maturity_months} months): ${values[-1]:.2f}\")\n",
    "\n",
    "# Create interactive widgets\n",
    "interact(compound_growth_interactive,\n",
    "         principal=widgets.FloatText(value=1000, description=\"Principal:\"),\n",
    "         apy=widgets.FloatText(value=0.05, description=\"APY:\"),\n",
    "         compounding_freq=widgets.Dropdown(\n",
    "             options=[1, 2, 4, 12, 365],\n",
    "             value=365,\n",
    "             description=\"Comp/freq:\"\n",
    "         ),\n",
    "         maturity_months=widgets.IntSlider(value=5, min=1, max=36, step=1, description=\"Months\")\n",
    ")\n",
    "display(output)"
   ]
  }
 ],
 "metadata": {
  "kernelspec": {
   "display_name": "base",
   "language": "python",
   "name": "python3"
  },
  "language_info": {
   "codemirror_mode": {
    "name": "ipython",
    "version": 3
   },
   "file_extension": ".py",
   "mimetype": "text/x-python",
   "name": "python",
   "nbconvert_exporter": "python",
   "pygments_lexer": "ipython3",
   "version": "3.12.4"
  }
 },
 "nbformat": 4,
 "nbformat_minor": 5
}
